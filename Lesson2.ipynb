{
  "nbformat": 4,
  "nbformat_minor": 0,
  "metadata": {
    "colab": {
      "provenance": [],
      "toc_visible": true,
      "include_colab_link": true
    },
    "kernelspec": {
      "name": "python3",
      "display_name": "Python 3"
    },
    "language_info": {
      "name": "python"
    }
  },
  "cells": [
    {
      "cell_type": "markdown",
      "metadata": {
        "id": "view-in-github",
        "colab_type": "text"
      },
      "source": [
        "<a href=\"https://colab.research.google.com/github/GayanaJayasinghe/Introduction-to-programming/blob/main/Lesson2.ipynb\" target=\"_parent\"><img src=\"https://colab.research.google.com/assets/colab-badge.svg\" alt=\"Open In Colab\"/></a>"
      ]
    },
    {
      "cell_type": "markdown",
      "source": [
        "# UNDER CONSTRUCTION."
      ],
      "metadata": {
        "id": "W01lcaBaK_K1"
      }
    },
    {
      "cell_type": "markdown",
      "source": [
        "DO WE FIRST DO LOOPS? Or we can introduce for loops only in order to iterate through a loop. Arrays, lists, and dictionaries"
      ],
      "metadata": {
        "id": "Y5JkTQs_MIce"
      }
    },
    {
      "cell_type": "markdown",
      "source": [
        "In this section we will study how we can store various sets of data that are related to each other, rather than storing various quantities in individual variables. We shall see how this allows us to think of various associated operations in simpler terms, and use built in functions in the python language and its libraries to handle large data sets more easily. We begin by studying arrays.\n"
      ],
      "metadata": {
        "id": "qGd-dQUcLHVk"
      }
    },
    {
      "cell_type": "code",
      "source": [
        "# prompt: Create a new array to store the height of 5 boxes. Take a user input for the boxes as an array. Sort the heights of the boxes.\n",
        "\n",
        "height_of_boxes = []\n",
        "for i in range(5):\n",
        "  height = float(input(\"Enter height of box \" + str(i+1) + \": \"))\n",
        "  height_of_boxes.append(height)\n",
        "height_of_boxes.sort()\n",
        "print(height_of_boxes)\n"
      ],
      "metadata": {
        "colab": {
          "base_uri": "https://localhost:8080/"
        },
        "id": "8AmvYdB8LmGt",
        "outputId": "b10df416-485e-49d1-fb91-fc8de32dcc60"
      },
      "execution_count": null,
      "outputs": [
        {
          "output_type": "stream",
          "name": "stdout",
          "text": [
            "Enter height of box 1: 22\n",
            "Enter height of box 2: 33\n",
            "Enter height of box 3: 32\n",
            "Enter height of box 4: 52\n",
            "Enter height of box 5: 11\n",
            "[11.0, 22.0, 32.0, 33.0, 52.0]\n"
          ]
        }
      ]
    },
    {
      "cell_type": "markdown",
      "source": [
        "Let us consider the height based name sorting problem that we considered in a previous lesson. We have three people with three heights, and we want to sort the names according to height.\n",
        "One way to store the names and the heights is in an array as given below."
      ],
      "metadata": {
        "id": "ZXNrJW7dMEo7"
      }
    },
    {
      "cell_type": "code",
      "source": [
        "Names=[\"John\",\"Joan\",\"William\"]\n",
        "Heights=[1.5, 1.4, 1.6]\n",
        "print(Names)\n",
        "print(Heights)"
      ],
      "metadata": {
        "colab": {
          "base_uri": "https://localhost:8080/"
        },
        "id": "iTNY_-4MMbO5",
        "outputId": "5fa685a5-f8c8-417f-a1f1-eb6a6c972c6f"
      },
      "execution_count": null,
      "outputs": [
        {
          "output_type": "stream",
          "name": "stdout",
          "text": [
            "['John', 'Joan', 'William']\n",
            "[1.5, 1.4, 1.6]\n"
          ]
        }
      ]
    },
    {
      "cell_type": "markdown",
      "source": [
        "We can get only the name and height of one person."
      ],
      "metadata": {
        "id": "nu4E5C_bNpLg"
      }
    },
    {
      "cell_type": "code",
      "source": [
        "\n",
        "print(Names[0])\n",
        "print(Heights[0])"
      ],
      "metadata": {
        "colab": {
          "base_uri": "https://localhost:8080/"
        },
        "id": "r-5I-_vfNmhS",
        "outputId": "0af8ca20-8e54-4a9a-985f-3297a4c6470c"
      },
      "execution_count": null,
      "outputs": [
        {
          "output_type": "stream",
          "name": "stdout",
          "text": [
            "John\n",
            "1.5\n"
          ]
        }
      ]
    },
    {
      "cell_type": "code",
      "source": [
        "print(Names[1])\n",
        "print(Heights[1])"
      ],
      "metadata": {
        "colab": {
          "base_uri": "https://localhost:8080/"
        },
        "id": "Me2uxTsoN4jD",
        "outputId": "b4c38453-be20-4100-a348-ca812e5d6f72"
      },
      "execution_count": null,
      "outputs": [
        {
          "output_type": "stream",
          "name": "stdout",
          "text": [
            "Joan\n",
            "1.4\n"
          ]
        }
      ]
    },
    {
      "cell_type": "markdown",
      "source": [
        "Notice that the 1st set of entries are labelled, or indexed, by 0. The second set of entries are labelled by 1. The counter of for indexing arrays and other data structures starts by 0 in python."
      ],
      "metadata": {
        "id": "wbdF7lvlN5FO"
      }
    },
    {
      "cell_type": "markdown",
      "source": [
        "We can add a new name and a new height to each of these using the append command."
      ],
      "metadata": {
        "id": "qFhBx0YSNXim"
      }
    },
    {
      "cell_type": "code",
      "source": [
        "Names.append(\"James\")\n",
        "Heights.append(1.7)\n",
        "print(Names)\n",
        "print(Heights)"
      ],
      "metadata": {
        "colab": {
          "base_uri": "https://localhost:8080/"
        },
        "id": "HerVsgbtOOzV",
        "outputId": "be67cdd4-154d-462c-f023-a9bc736651af"
      },
      "execution_count": null,
      "outputs": [
        {
          "output_type": "stream",
          "name": "stdout",
          "text": [
            "['John', 'Joan', 'William', 'James']\n",
            "[1.5, 1.4, 1.6, 1.7]\n"
          ]
        }
      ]
    },
    {
      "cell_type": "code",
      "source": [
        "Names.append(\"James\")\n",
        "Heights.append(1.4)\n",
        "print(Names)\n",
        "print(Heights)"
      ],
      "metadata": {
        "colab": {
          "base_uri": "https://localhost:8080/"
        },
        "id": "5NYjG0mPOkW8",
        "outputId": "238eb9dd-a05e-4329-f6f9-32b6a4595652"
      },
      "execution_count": null,
      "outputs": [
        {
          "output_type": "stream",
          "name": "stdout",
          "text": [
            "['John', 'Joan', 'William', 'James', 'James']\n",
            "[1.5, 1.4, 1.6, 1.7, 1.4]\n"
          ]
        }
      ]
    },
    {
      "cell_type": "markdown",
      "source": [
        "Observe that we can have multiple entries. In fact the two arrays are not directly related in the machine and we can treat them separately."
      ],
      "metadata": {
        "id": "NNFHld2vOssh"
      }
    },
    {
      "cell_type": "code",
      "source": [
        "Names.append(\"Jane\")\n",
        "print(Names)\n",
        "print(Heights)"
      ],
      "metadata": {
        "colab": {
          "base_uri": "https://localhost:8080/"
        },
        "id": "imXRkzDBO2_j",
        "outputId": "987ee5bb-4d1d-4f4e-ccf4-ac1b3e991c16"
      },
      "execution_count": null,
      "outputs": [
        {
          "output_type": "stream",
          "name": "stdout",
          "text": [
            "['John', 'Joan', 'William', 'James', 'James', 'Jane']\n",
            "[1.5, 1.4, 1.6, 1.7, 1.4]\n"
          ]
        }
      ]
    },
    {
      "cell_type": "markdown",
      "source": [
        "Lets take a subset of the above array. Let's take the 1st three entries and make a new array called Names_1"
      ],
      "metadata": {
        "id": "k8psdznFPQRR"
      }
    },
    {
      "cell_type": "code",
      "source": [
        "Names_1=Names[0:3]\n",
        "print(Names_1)\n",
        "print(Names[3])"
      ],
      "metadata": {
        "colab": {
          "base_uri": "https://localhost:8080/"
        },
        "id": "jKf402JNPceL",
        "outputId": "bbf1cccb-b9fa-4ef4-ce06-af2d358b841b"
      },
      "execution_count": null,
      "outputs": [
        {
          "output_type": "stream",
          "name": "stdout",
          "text": [
            "['John', 'Joan', 'William']\n",
            "James\n"
          ]
        }
      ]
    },
    {
      "cell_type": "markdown",
      "source": [
        "We used 0:3, so it \"sliced\" the array and took the entries starting from the index 0, upto the index 3, but without the 4th index which is labelled by 3, which was \"William\".\n",
        "\n",
        "Question:Can you try slicing a different subset?\n",
        "Try a subset with the 2nd and the third entry."
      ],
      "metadata": {
        "id": "NDvdt89ZPiMF"
      }
    },
    {
      "cell_type": "code",
      "source": [
        "Names=[\"John\",\"Joan\",\"William\"]\n",
        "Heights=[1.5, 1.4, 1.6]\n",
        "Names_2=Names[1:3]\n",
        "print(Names_2)"
      ],
      "metadata": {
        "colab": {
          "base_uri": "https://localhost:8080/"
        },
        "id": "NQ9dyCe3gTgE",
        "outputId": "013232e7-8a03-4699-ea67-551fb04627dc"
      },
      "execution_count": null,
      "outputs": [
        {
          "output_type": "stream",
          "name": "stdout",
          "text": [
            "['John', 'Joan', 'William']\n",
            "[1.5, 1.4, 1.6]\n",
            "['Joan', 'William']\n"
          ]
        }
      ]
    },
    {
      "cell_type": "markdown",
      "source": [
        "How about taking two subsets and combing them.\n",
        "Let's use a simpler example for manipulations. I will declare an array A with 6 numbers and take two subsets, of the first two and the last two numbers. Then I will combine them."
      ],
      "metadata": {
        "id": "RnIZlzuJgq_2"
      }
    },
    {
      "cell_type": "code",
      "source": [
        "A=[1,2,3,4,5,6]\n",
        "A_1=A[0:2]\n",
        "A_2=A[4:6]\n",
        "A_3=A_1+A_2\n",
        "print(A_3)\n"
      ],
      "metadata": {
        "colab": {
          "base_uri": "https://localhost:8080/"
        },
        "id": "9qkK5-ccgzju",
        "outputId": "f4e553a5-a864-44fc-f844-7c9828609249"
      },
      "execution_count": null,
      "outputs": [
        {
          "output_type": "stream",
          "name": "stdout",
          "text": [
            "[1, 2, 5, 6]\n"
          ]
        }
      ]
    },
    {
      "cell_type": "markdown",
      "source": [
        "So this is another operation for which the symbol is +."
      ],
      "metadata": {
        "id": "-5LzUpnIhLgm"
      }
    },
    {
      "cell_type": "code",
      "source": [
        "A=[\"s\",\"t\"]\n",
        "B=[\"a\",\"b\"]\n",
        "C=A+B\n",
        "print(C)"
      ],
      "metadata": {
        "colab": {
          "base_uri": "https://localhost:8080/"
        },
        "id": "Uwg9x3wOhgGg",
        "outputId": "f1ac3ee4-5ef7-4a6d-b4b3-88c413465805"
      },
      "execution_count": null,
      "outputs": [
        {
          "output_type": "stream",
          "name": "stdout",
          "text": [
            "['s', 't', 'a', 'b']\n"
          ]
        }
      ]
    },
    {
      "cell_type": "markdown",
      "source": [
        "Arrays are very flexible. They can store different data types within even the same array."
      ],
      "metadata": {
        "id": "KnnaPFqlhq9y"
      }
    },
    {
      "cell_type": "code",
      "source": [
        "A=[\"s\",1]\n",
        "print(A[0])\n",
        "print(A[1])"
      ],
      "metadata": {
        "colab": {
          "base_uri": "https://localhost:8080/"
        },
        "id": "ZIeIHe-nhige",
        "outputId": "aa7c2898-67bd-4734-a77d-72b9e4662db4"
      },
      "execution_count": null,
      "outputs": [
        {
          "output_type": "stream",
          "name": "stdout",
          "text": [
            "s\n",
            "1\n"
          ]
        }
      ]
    },
    {
      "cell_type": "markdown",
      "source": [
        "I feel like this has become too technical somehow. Maybe its best to introduce nicer, more useful code, before explaining more abstract code.\n",
        "Not everyone will appreciate the power of abstraction initially."
      ],
      "metadata": {
        "id": "_wvln94hhztN"
      }
    },
    {
      "cell_type": "markdown",
      "source": [
        "# Construction. Loops"
      ],
      "metadata": {
        "id": "olPRwC16jjGQ"
      }
    },
    {
      "cell_type": "markdown",
      "source": [
        "In many day to day activities, we have to do somethings repeatedly. For instance if we are taking the marks of students in a class and finding the class average various subjects, we have to take the average of values for each subject.\n",
        "This is one instance where loops help us. Let's begin with a simple example of finding class averages."
      ],
      "metadata": {
        "id": "ez-mGW0hjojP"
      }
    },
    {
      "cell_type": "code",
      "source": [
        "# prompt: Create a dictionary with three students and their marks for a subject maths\n",
        "\n",
        "student_marks = {\n",
        "    \"Alice\": 85,\n",
        "    \"Bob\": 72,\n",
        "    \"Charlie\": 90\n",
        "}\n",
        "print(student_marks)\n"
      ],
      "metadata": {
        "id": "SqmJmL88kK6H"
      },
      "execution_count": null,
      "outputs": []
    },
    {
      "cell_type": "code",
      "source": [
        "# prompt: Now compute the average marks for maths\n",
        "\n",
        "student_marks = {\n",
        "    \"Alice\": 85,\n",
        "    \"Bob\": 72,\n",
        "    \"Charlie\": 90\n",
        "}\n",
        "total_marks = 0\n",
        "for student in student_marks:\n",
        "  total_marks += student_marks[student]\n",
        "average_marks = total_marks / len(student_marks)\n",
        "print(\"Average marks for maths:\", average_marks)\n"
      ],
      "metadata": {
        "id": "6FYeKtbdkVc8"
      },
      "execution_count": null,
      "outputs": []
    }
  ]
}